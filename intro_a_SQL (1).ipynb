{
  "nbformat": 4,
  "nbformat_minor": 0,
  "metadata": {
    "colab": {
      "provenance": []
    },
    "kernelspec": {
      "name": "python3",
      "display_name": "Python 3"
    },
    "language_info": {
      "name": "python"
    }
  },
  "cells": [
    {
      "cell_type": "code",
      "execution_count": null,
      "metadata": {
        "id": "FMlVJK_P3Tmw"
      },
      "outputs": [],
      "source": []
    },
    {
      "cell_type": "markdown",
      "source": [
        "# Introduccion\n",
        "\n",
        "SQL[texto del enlace](https://aws.amazon.com/es/what-is/sql//)\n",
        "Lenguaje de programación\n",
        "SQL es un lenguaje específico de dominio, diseñado para administrar, y recuperar información de sistemas de gestión de bases de datos relacionales.​\n",
        "\n",
        "#uso en la ingenieria\n",
        "La programación SQL se puede usar para compartir y administrar datos, en particular la información organizada en tablas que se encuentra en los sistemas de administración de bases de datos relacionales. Mediante el uso de SQL, se puede: Consultar, actualizar y reorganizar datos.\n",
        "[texto del enlace](https://www.universidadviu.com/es/actualidad/nuestros-expertos/programacion-sql-para-que-sirve-y-quien-la-necesita#:~:text=La%20programaci%C3%B3n%20SQL%20se%20puede,Consultar%2C%20actualizar%20y%20reorganizar%20datos.)\n",
        "\n",
        "¿que librerias hay que trabajar SQL EN GOOGLE COLAB?\n",
        "1. Librerías para bases de datos relacionales:\n",
        "\n",
        "Psycopg2: Esta biblioteca te permite conectarte a bases de datos PostgreSQL desde Python. Es la opción más popular para trabajar con PostgreSQL en Colab.\n",
        "\n",
        "PyMySQL: Sirve para conectarse a bases de datos MySQL desde Python. Es otra opción popular para trabajar con bases de datos relacionales en Colab.\n",
        "\n",
        "** sqlalchemy:** Es una biblioteca de abstracción de base de datos más avanzada que te permite conectarte a una variedad de bases de datos relacionales, incluyendo PostgreSQL, MySQL, SQLite y más.\n",
        "\n",
        "2. Librerías para trabajar con datos tabulares:\n",
        "\n",
        "pandas: Esta biblioteca es fundamental para trabajar con datos tabulares en Python. Te permite leer y manipular datos de diferentes fuentes, como archivos CSV, bases de datos SQL y APIs.\n",
        "\n",
        "NumPy: Ofrece funciones para trabajar con arrays multidimensionales, lo que es útil para realizar operaciones matemáticas con datos tabulares.\n"
      ],
      "metadata": {
        "id": "sz5kBY0S3xEK"
      }
    },
    {
      "cell_type": "code",
      "source": [
        "import sqlite3"
      ],
      "metadata": {
        "id": "Oy2bXLB53nNa"
      },
      "execution_count": null,
      "outputs": []
    },
    {
      "cell_type": "markdown",
      "source": [
        "#MySQL necesita conexiones e instalaciones ;el bechmark es el mejor de todos los \"queries\". La ventaja de trabajar con sqlite es que podemos crear bases de datos por default; mientras que en MYSQL es necesario crear base de datos"
      ],
      "metadata": {
        "id": "T4KaqvNy9MAV"
      }
    },
    {
      "cell_type": "markdown",
      "source": [
        "** Vamos a crear una base de datos **.\n",
        "Nuestra base de datos consistira de libros"
      ],
      "metadata": {
        "id": "-QjYDUY7-cKK"
      }
    },
    {
      "cell_type": "code",
      "source": [
        "con = sqlite3.connect(\"libros_db.sqlite\")"
      ],
      "metadata": {
        "id": "XzPv6sHb_lya"
      },
      "execution_count": null,
      "outputs": []
    },
    {
      "cell_type": "markdown",
      "source": [
        "#Ahora vamos a diseñar nuestra tabla"
      ],
      "metadata": {
        "id": "rPCOQ-Tr_5Bh"
      }
    },
    {
      "cell_type": "code",
      "source": [
        "#CREAMOS UN CURSOR\n",
        "\n",
        "cursor = con.cursor()\n",
        "#aqui vamos a ejecutar los datos necesarios para crear la tabla\n",
        "cursor.execute( '''\n",
        "              CREATE TABLE libros(\n",
        "                  id INTEGER PRIMARY KEY,\n",
        "                  titulo TEXT NOT NULL,\n",
        "                  autor  TEXT  NOT NULL,\n",
        "                  año INTEGER)\n",
        "            ''' )"
      ],
      "metadata": {
        "colab": {
          "base_uri": "https://localhost:8080/"
        },
        "id": "15mTBZJG__yS",
        "outputId": "5e325e65-fdc1-470b-dac6-05a6e95662b9"
      },
      "execution_count": null,
      "outputs": [
        {
          "output_type": "execute_result",
          "data": {
            "text/plain": [
              "<sqlite3.Cursor at 0x7f5a75136140>"
            ]
          },
          "metadata": {},
          "execution_count": 11
        }
      ]
    },
    {
      "cell_type": "code",
      "source": [
        "libros_datos=[(\"Harry Potter\",\"J.K.R\",1997),\n",
        "              (\"Better than the movies\",\"Lynn Painter\",2021),\n",
        "              (\"la sombra del viento\",\"Carlos Ruiz Zafon\",2001)]\n",
        "\n",
        "cursor.executemany(\"\"\"\n",
        "  INSERT INTO libros (titulo,autor,año) Values(?,?,?)\"\"\",libros_datos )\n",
        "con.commit()"
      ],
      "metadata": {
        "id": "WhquW5P_EEDN"
      },
      "execution_count": null,
      "outputs": []
    },
    {
      "cell_type": "code",
      "source": [
        "cursor.execute(\"SELECT * FROM libros\")\n",
        "libros=cursor.fetchall()\n",
        "for libro in libros:\n",
        "  print(libros)\n"
      ],
      "metadata": {
        "colab": {
          "base_uri": "https://localhost:8080/"
        },
        "id": "z2V-08vQGt4A",
        "outputId": "508a2bcf-b536-46d4-ce87-6104bccbaf9c"
      },
      "execution_count": null,
      "outputs": [
        {
          "output_type": "stream",
          "name": "stdout",
          "text": [
            "[(1, 'Harry Potter', 'J.K.R', 1997), (2, 'Better than the movies', 'Lynn Painter', 2021), (3, 'la sombra del viento', 'Carlos Ruiz Zafon', 2001)]\n",
            "[(1, 'Harry Potter', 'J.K.R', 1997), (2, 'Better than the movies', 'Lynn Painter', 2021), (3, 'la sombra del viento', 'Carlos Ruiz Zafon', 2001)]\n",
            "[(1, 'Harry Potter', 'J.K.R', 1997), (2, 'Better than the movies', 'Lynn Painter', 2021), (3, 'la sombra del viento', 'Carlos Ruiz Zafon', 2001)]\n"
          ]
        }
      ]
    },
    {
      "cell_type": "markdown",
      "source": [],
      "metadata": {
        "id": "FNU4YUTa-ZY7"
      }
    }
  ]
}